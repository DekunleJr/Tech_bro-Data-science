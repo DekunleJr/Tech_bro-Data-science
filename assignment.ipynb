{
 "cells": [
  {
   "cell_type": "code",
   "execution_count": 1,
   "id": "2b085997",
   "metadata": {},
   "outputs": [
    {
     "name": "stdout",
     "output_type": "stream",
     "text": [
      "Calculator\n",
      "1.Add\n",
      "2.Substract\n",
      "3.Multiply\n",
      "4.Divide\n",
      "Enter Choice(1-4): 4\n",
      "Enter A:12\n",
      "Enter B:2\n",
      "Quotient =  6.0\n"
     ]
    }
   ],
   "source": [
    "print(\"Calculator\")\n",
    "print(\"1.Add\")\n",
    "print(\"2.Substract\")\n",
    "print(\"3.Multiply\")\n",
    "print(\"4.Divide\")\n",
    "\n",
    "# input choice\n",
    "cal=int(input(\"Enter Choice(1-4): \"))\n",
    "\n",
    "if cal==1:\n",
    "    a=float(input(\"Enter A:\"))\n",
    "    b=float(input(\"Enter B:\"))\n",
    "    c= a + b\n",
    "    print(\"Sum = \",c)\n",
    "elif cal==2:\n",
    "    a=float(input(\"Enter A:\"))\n",
    "    b=float(input(\"Enter B:\"))\n",
    "    c=a-b\n",
    "    print(\"Difference = \",c)\n",
    "elif  cal==3:\n",
    "    a=float(input(\"Enter A:\"))\n",
    "    b=float(input(\"Enter B:\"))\n",
    "    c=a*b\n",
    "    print(\"Product = \",c)\n",
    "elif cal==4:\n",
    "    a=float(input(\"Enter A:\"))\n",
    "    b=float(input(\"Enter B:\"))\n",
    "    c=a/b\n",
    "    print(\"Quotient = \",c)\n",
    "else:\n",
    "    print(\"Invalid Choice\")"
   ]
  }
 ],
 "metadata": {
  "kernelspec": {
   "display_name": "Python 3 (ipykernel)",
   "language": "python",
   "name": "python3"
  },
  "language_info": {
   "codemirror_mode": {
    "name": "ipython",
    "version": 3
   },
   "file_extension": ".py",
   "mimetype": "text/x-python",
   "name": "python",
   "nbconvert_exporter": "python",
   "pygments_lexer": "ipython3",
   "version": "3.10.9"
  }
 },
 "nbformat": 4,
 "nbformat_minor": 5
}
